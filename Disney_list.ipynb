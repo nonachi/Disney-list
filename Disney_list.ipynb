{
  "nbformat": 4,
  "nbformat_minor": 0,
  "metadata": {
    "colab": {
      "name": "Disney_list.ipynb",
      "provenance": [],
      "collapsed_sections": [],
      "authorship_tag": "ABX9TyMamADVS0AGHWb5kO0zS296",
      "include_colab_link": true
    },
    "kernelspec": {
      "name": "python3",
      "display_name": "Python 3"
    },
    "language_info": {
      "name": "python"
    }
  },
  "cells": [
    {
      "cell_type": "markdown",
      "metadata": {
        "id": "view-in-github",
        "colab_type": "text"
      },
      "source": [
        "<a href=\"https://colab.research.google.com/github/nonachi/Disney-list/blob/main/Disney_list.ipynb\" target=\"_parent\"><img src=\"https://colab.research.google.com/assets/colab-badge.svg\" alt=\"Open In Colab\"/></a>"
      ]
    },
    {
      "cell_type": "code",
      "source": [
        "#Import\n",
        "from IPython.display import display\n",
        "import pandas as pd\n",
        "from numpy import nan"
      ],
      "metadata": {
        "id": "_8A6TS9hgOOa"
      },
      "execution_count": 60,
      "outputs": []
    },
    {
      "cell_type": "code",
      "source": [
        "#Settings\n",
        "#Importing table\n",
        "URL = 'https://ru.wikipedia.org/wiki/%D0%A1%D0%BF%D0%B8%D1%81%D0%BE%D0%BA_%D1%84%D0%B8%D0%BB%D1%8C%D0%BC%D0%BE%D0%B2_%D0%BF%D1%80%D0%BE%D0%B8%D0%B7%D0%B2%D0%BE%D0%B4%D1%81%D1%82%D0%B2%D0%B0_%D0%BA%D0%BE%D0%BC%D0%BF%D0%B0%D0%BD%D0%B8%D0%B8_%D0%A3%D0%BE%D0%BB%D1%82%D0%B0_%D0%94%D0%B8%D1%81%D0%BD%D0%B5%D1%8F#2020-%D0%B5'\n",
        "tables = pd.read_html(URL)\n",
        "for i in range(3):\n",
        "  del tables[0]\n",
        "\n",
        "#Edit 6 first tables\n",
        "df = tables[0]\n",
        "for i in range(1, 5):\n",
        "  df = df.append(tables[i])\n",
        "df['Совместное производство'] = nan\n",
        "df = df.append(tables[5])\n",
        "df = df[['Unnamed: 0', 'Название', 'Дата релиза', 'Совместное производство', 'Первоисточник']]\n",
        "\n",
        "#Edit and add 7th table\n",
        "df_1 = tables[6]\n",
        "df_1.columns = ['Unnamed: 0', 'Название', 'Дата релиза', 'Совместное производство']\n",
        "df_1['Первоисточник'] = nan\n",
        "df = df.append(df_1)\n",
        "\n",
        "#Eddit and add 8th table\n",
        "df_1 = tables[7]\n",
        "df_1.drop([0], inplace=True)\n",
        "df_1.columns = ['Unnamed: 0', 'Название', 'Дата релиза', 'Совместное производство', 'Первоисточник']\n",
        "\n",
        "#Add 4 last tables\n",
        "for i in range(8, 12):\n",
        "  df = df.append(tables[i])\n",
        "\n",
        "#Edit dataframe\n",
        "df.drop('Unnamed: 5', axis=1, inplace=True)\n",
        "df.columns = ['Type', 'Name', 'Date of release', 'Co-production', 'Original sourse']\n",
        "df.index = range(0, len(df))\n",
        "df.fillna('Нет', inplace=True)\n",
        "\n",
        "pd.set_option('display.max_rows', None)\n",
        "pd.set_option('display.max_columns', None)\n",
        "\n",
        "types = ['А', 'Г', 'И', 'Н', 'Д']"
      ],
      "metadata": {
        "id": "_48qdoDrf6-n"
      },
      "execution_count": 61,
      "outputs": []
    },
    {
      "cell_type": "code",
      "source": [
        "#Main\n",
        "print('Введите название нужного вам фильма или введите \"Нет\",\\nесли вы не нуждаетесь в конкретном произведении:')\n",
        "name = input()\n",
        "if name in list(df['Name']):\n",
        "  display(df[df['Name'] == name])\n",
        "elif name == 'Нет':\n",
        "  print('Укажите нужный тип фильмов:\\n А - Анимационный фильм\\n Г - Гибридный фильм\\n И - Игровое кино\\n Н - Научно-популярный фильм\\n Д - Документальный фильм\\n Не важно')\n",
        "  t = input()\n",
        "  print('Являются ли нужные вам фильмы продуктом совместного производства? (Да/Нет/Не важно)')\n",
        "  cooperate = input()\n",
        "  if t == 'Не важно':\n",
        "    if cooperate == 'Нет':\n",
        "      display(df[df['Co-production'] == 'Нет'])\n",
        "    elif cooperate == 'Да':\n",
        "      display(df[df['Co-production'] != 'Нет'])\n",
        "    elif cooperate == 'Не важно':\n",
        "      display(df)\n",
        "    else:\n",
        "      print('Вы ввели что-то не то!')\n",
        "  elif t in types:\n",
        "    if cooperate == 'Нет':\n",
        "      display(df[(df['Co-production'] == 'Нет') & (df['Type'] == t)])\n",
        "    elif cooperate == 'Да':\n",
        "      display(df[(df['Co-production'] != 'Нет') & (df['Type'] == t)])\n",
        "    elif cooperate == 'Не важно':\n",
        "      display(df[df['Type'] == t])\n",
        "    else:\n",
        "      print('Вы ввели что-то не то!')\n",
        "  else:\n",
        "    print('Вы ввели что-то не то!')\n",
        "else:\n",
        "  print('Такого фильма нет!')"
      ],
      "metadata": {
        "id": "VuXhMjFof7nk"
      },
      "execution_count": null,
      "outputs": []
    }
  ]
}